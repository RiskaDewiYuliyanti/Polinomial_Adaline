{
  "nbformat": 4,
  "nbformat_minor": 0,
  "metadata": {
    "colab": {
      "provenance": []
    },
    "kernelspec": {
      "name": "python3",
      "display_name": "Python 3"
    },
    "language_info": {
      "name": "python"
    }
  },
  "cells": [
    {
      "cell_type": "code",
      "execution_count": null,
      "metadata": {
        "id": "cfaGjTo35qv0"
      },
      "outputs": [],
      "source": [
        "# --- Adaline Model Class ---\n",
        "import numpy as np\n",
        "import pickle"
      ]
    },
    {
      "cell_type": "code",
      "source": [
        "# Kelas Adaline\n",
        "class Adaline:\n",
        "    def __init__(self, learning_rate=0.01, epochs=1000):\n",
        "        self.learning_rate = learning_rate\n",
        "        self.epochs = epochs\n",
        "        self.weights = None\n",
        "        self.bias = None\n",
        "        self.loss_history = []\n",
        "\n",
        "    def activation(self, x):\n",
        "        return x  # Linear activation untuk Adaline\n",
        "\n",
        "    def predict(self, X):\n",
        "        return self.activation(np.dot(X, self.weights) + self.bias)\n",
        "\n",
        "    def train(self, X, y):\n",
        "        n_samples, n_features = X.shape\n",
        "        self.weights = np.zeros(n_features)\n",
        "        self.bias = 0\n",
        "\n",
        "        for epoch in range(self.epochs):\n",
        "            y_predicted = self.predict(X)\n",
        "            errors = y - y_predicted\n",
        "\n",
        "            self.weights += self.learning_rate * np.dot(X.T, errors) / n_samples\n",
        "            self.bias += self.learning_rate * errors.mean()\n",
        "\n",
        "            mse = np.mean(errors ** 2)\n",
        "            self.loss_history.append(mse)\n",
        "\n",
        "            if epoch % 100 == 0:\n",
        "                print(f\"Epoch {epoch} - MSE: {mse:.6f}\")\n",
        "\n",
        "    def save_model(self, filename):\n",
        "        with open(filename, 'wb') as f:\n",
        "            pickle.dump(self, f)\n",
        "\n",
        "    @staticmethod\n",
        "    def load_model(filename):\n",
        "        with open(filename, 'rb') as f:\n",
        "            return pickle.load(f)"
      ],
      "metadata": {
        "id": "A5EsHgPT7I7e"
      },
      "execution_count": null,
      "outputs": []
    },
    {
      "cell_type": "code",
      "source": [
        "# Fungsi untuk membuat dataset berdasarkan koefisien polinomial\n",
        "def generate_polynomial_data(coefficients, num_points=100, noise=0.01):\n",
        "    X = np.linspace(-10, 10, num_points)\n",
        "    y = np.polyval(coefficients, X) + noise * np.random.randn(num_points)\n",
        "    return X.reshape(-1, 1), y"
      ],
      "metadata": {
        "id": "pXXqhbZ57NXN"
      },
      "execution_count": null,
      "outputs": []
    },
    {
      "cell_type": "code",
      "source": [
        "# Persamaan polinomial yang ingin digunakan\n",
        "coefficients = [1, -6, 11, -6]  # Contoh x^3 - 6x^2 + 11x - 6\n",
        "\n",
        "# Generate data berdasarkan polinomial\n",
        "X, y = generate_polynomial_data(coefficients)\n",
        "\n",
        "# Buat dan latih model Adaline\n",
        "model = Adaline(learning_rate=0.0001, epochs=5000)\n",
        "model.train(X, y)\n",
        "\n",
        "# Simpan model\n",
        "model.save_model(\"adaline_polynomial_model.pkl\")\n"
      ],
      "metadata": {
        "colab": {
          "base_uri": "https://localhost:8080/"
        },
        "id": "uE2_tRnq7N_K",
        "outputId": "c4892340-f377-4419-92ec-4aaa1098b8e5"
      },
      "execution_count": null,
      "outputs": [
        {
          "output_type": "stream",
          "name": "stdout",
          "text": [
            "Epoch 0 - MSE: 278946.661348\n",
            "Epoch 100 - MSE: 190484.548305\n",
            "Epoch 200 - MSE: 145311.788472\n",
            "Epoch 300 - MSE: 122049.999146\n",
            "Epoch 400 - MSE: 109882.369199\n",
            "Epoch 500 - MSE: 103335.844301\n",
            "Epoch 600 - MSE: 99641.111003\n",
            "Epoch 700 - MSE: 97396.849013\n",
            "Epoch 800 - MSE: 95893.893587\n",
            "Epoch 900 - MSE: 94773.287335\n",
            "Epoch 1000 - MSE: 93853.267381\n",
            "Epoch 1100 - MSE: 93041.727390\n",
            "Epoch 1200 - MSE: 92291.926621\n",
            "Epoch 1300 - MSE: 91580.080343\n",
            "Epoch 1400 - MSE: 90894.021379\n",
            "Epoch 1500 - MSE: 90227.463223\n",
            "Epoch 1600 - MSE: 89577.097354\n",
            "Epoch 1700 - MSE: 88941.124520\n",
            "Epoch 1800 - MSE: 88318.511590\n",
            "Epoch 1900 - MSE: 87708.615487\n",
            "Epoch 2000 - MSE: 87110.992873\n",
            "Epoch 2100 - MSE: 86525.303803\n",
            "Epoch 2200 - MSE: 85951.262940\n",
            "Epoch 2300 - MSE: 85388.614814\n",
            "Epoch 2400 - MSE: 84837.121274\n",
            "Epoch 2500 - MSE: 84296.555081\n",
            "Epoch 2600 - MSE: 83766.696637\n",
            "Epoch 2700 - MSE: 83247.332277\n",
            "Epoch 2800 - MSE: 82738.253372\n",
            "Epoch 2900 - MSE: 82239.255830\n",
            "Epoch 3000 - MSE: 81750.139806\n",
            "Epoch 3100 - MSE: 81270.709517\n",
            "Epoch 3200 - MSE: 80800.773109\n",
            "Epoch 3300 - MSE: 80340.142553\n",
            "Epoch 3400 - MSE: 79888.633560\n",
            "Epoch 3500 - MSE: 79446.065493\n",
            "Epoch 3600 - MSE: 79012.261299\n",
            "Epoch 3700 - MSE: 78587.047430\n",
            "Epoch 3800 - MSE: 78170.253778\n",
            "Epoch 3900 - MSE: 77761.713602\n",
            "Epoch 4000 - MSE: 77361.263464\n",
            "Epoch 4100 - MSE: 76968.743163\n",
            "Epoch 4200 - MSE: 76583.995670\n",
            "Epoch 4300 - MSE: 76206.867064\n",
            "Epoch 4400 - MSE: 75837.206475\n",
            "Epoch 4500 - MSE: 75474.866019\n",
            "Epoch 4600 - MSE: 75119.700739\n",
            "Epoch 4700 - MSE: 74771.568551\n",
            "Epoch 4800 - MSE: 74430.330184\n",
            "Epoch 4900 - MSE: 74095.849123\n"
          ]
        }
      ]
    },
    {
      "cell_type": "code",
      "source": [],
      "metadata": {
        "id": "LGEiGRG37Pi-"
      },
      "execution_count": null,
      "outputs": []
    }
  ]
}
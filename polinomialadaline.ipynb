{
  "nbformat": 4,
  "nbformat_minor": 0,
  "metadata": {
    "colab": {
      "provenance": []
    },
    "kernelspec": {
      "name": "python3",
      "display_name": "Python 3"
    },
    "language_info": {
      "name": "python"
    }
  },
  "cells": [
    {
      "cell_type": "code",
      "execution_count": 1,
      "metadata": {
        "id": "cTzBrwdXTCGk"
      },
      "outputs": [],
      "source": [
        "import numpy as np\n",
        "import matplotlib.pyplot as plt"
      ]
    },
    {
      "cell_type": "code",
      "source": [
        "# --- Definisi Class Adaline ---\n",
        "class Adaline:\n",
        "    def __init__(self, learning_rate=0.01, epochs=1000, initial_weights=None):\n",
        "        self.learning_rate = learning_rate\n",
        "        self.epochs = epochs\n",
        "        self.weights = initial_weights\n",
        "        self.bias = 0\n",
        "        self.loss_history = []\n",
        "\n",
        "    def activation(self, x):\n",
        "        return x\n",
        "\n",
        "    def predict(self, X):\n",
        "        return self.activation(np.dot(X, self.weights) + self.bias)\n",
        "\n",
        "    def train(self, X, y):\n",
        "        n_samples, n_features = X.shape\n",
        "\n",
        "        if self.weights is None:\n",
        "            self.weights = np.zeros(n_features)\n",
        "\n",
        "        for _ in range(self.epochs):\n",
        "            y_pred = self.predict(X)\n",
        "            errors = y - y_pred\n",
        "\n",
        "            self.weights += self.learning_rate * np.dot(X.T, errors) / n_samples\n",
        "            self.bias += self.learning_rate * errors.mean()\n",
        "\n",
        "            mse = np.mean(errors ** 2)\n",
        "            self.loss_history.append(mse)"
      ],
      "metadata": {
        "id": "ioSZgDgfTUCU"
      },
      "execution_count": 2,
      "outputs": []
    },
    {
      "cell_type": "code",
      "source": [
        "# --- Proses Training ---\n",
        "# Generate data polinomial: y = x^3 - 6x^2 + 11x - 6\n",
        "coefficients = [1, -6, 11, -6]\n",
        "X = np.linspace(-10, 10, 100).reshape(-1, 1)\n",
        "y = np.polyval(coefficients, X.flatten())"
      ],
      "metadata": {
        "id": "g4nRS44rTYPs"
      },
      "execution_count": 3,
      "outputs": []
    },
    {
      "cell_type": "code",
      "source": [
        "# Inisialisasi dan training model\n",
        "model = Adaline(learning_rate=0.01, epochs=1000, initial_weights=np.array([0.0]))\n",
        "model.train(X, y)"
      ],
      "metadata": {
        "id": "lIRz4gvnTZvx"
      },
      "execution_count": 5,
      "outputs": []
    },
    {
      "cell_type": "code",
      "source": [
        "# Prediksi satu nilai\n",
        "y_pred = model.predict(X)"
      ],
      "metadata": {
        "id": "-a0Wj1RZTbiz"
      },
      "execution_count": 6,
      "outputs": []
    },
    {
      "cell_type": "code",
      "source": [
        "# Tampilkan info hasil\n",
        "print(f\"Bobot akhir: {model.weights}\")\n",
        "print(f\"Bias akhir: {model.bias}\")\n",
        "print(f\"Galat akhir (MSE): {model.loss_history[-1]:.4f}\")"
      ],
      "metadata": {
        "colab": {
          "base_uri": "https://localhost:8080/"
        },
        "id": "wzPXgecNTfl0",
        "outputId": "c86450d5-8416-4541-e818-72849ea2f149"
      },
      "execution_count": 7,
      "outputs": [
        {
          "output_type": "stream",
          "name": "stdout",
          "text": [
            "Bobot akhir: [72.20395878]\n",
            "Bias akhir: -210.031336334155\n",
            "Galat akhir (MSE): 57539.9002\n"
          ]
        }
      ]
    },
    {
      "cell_type": "code",
      "source": [
        "# Grafik MSE\n",
        "plt.plot(model.loss_history, color='green')\n",
        "plt.xlabel(\"Epoch\")\n",
        "plt.ylabel(\"Mean Squared Error\")\n",
        "plt.title(\"Perkembangan MSE Selama Training\")\n",
        "plt.show()"
      ],
      "metadata": {
        "colab": {
          "base_uri": "https://localhost:8080/",
          "height": 472
        },
        "id": "k5LFz0aETh2H",
        "outputId": "17726726-f94a-42c3-9d54-6e2dd34dbb00"
      },
      "execution_count": 8,
      "outputs": [
        {
          "output_type": "display_data",
          "data": {
            "text/plain": [
              "<Figure size 640x480 with 1 Axes>"
            ],
            "image/png": "[encoded data removed]"
          },
          "metadata": {}
        }
      ]
    },
    {
      "cell_type": "code",
      "source": [
        "#save model\n",
        "import pickle\n",
        "with open('model.pkl', 'wb') as f:\n",
        "    pickle.dump(model, f)"
      ],
      "metadata": {
        "id": "O3bsnJNsTs4j"
      },
      "execution_count": 10,
      "outputs": []
    },
    {
      "cell_type": "code",
      "source": [
        "from google.colab import files\n",
        "files.download('model.pkl')"
      ],
      "metadata": {
        "colab": {
          "base_uri": "https://localhost:8080/",
          "height": 17
        },
        "id": "ZxcC-lUATxN2",
        "outputId": "ce0db4aa-00b0-4402-c63f-fbd02e84bf56"
      },
      "execution_count": 11,
      "outputs": [
        {
          "output_type": "display_data",
          "data": {
            "text/plain": [
              "<IPython.core.display.Javascript object>"
            ],
            "application/javascript": [
              "\n",
              "    async function download(id, filename, size) {\n",
              "      if (!google.colab.kernel.accessAllowed) {\n",
              "        return;\n",
              "      }\n",
              "      const div = document.createElement('div');\n",
              "      const label = document.createElement('label');\n",
              "      label.textContent = `Downloading \"${filename}\": `;\n",
              "      div.appendChild(label);\n",
              "      const progress = document.createElement('progress');\n",
              "      progress.max = size;\n",
              "      div.appendChild(progress);\n",
              "      document.body.appendChild(div);\n",
              "\n",
              "      const buffers = [];\n",
              "      let downloaded = 0;\n",
              "\n",
              "      const channel = await google.colab.kernel.comms.open(id);\n",
              "      // Send a message to notify the kernel that we're ready.\n",
              "      channel.send({})\n",
              "\n",
              "      for await (const message of channel.messages) {\n",
              "        // Send a message to notify the kernel that we're ready.\n",
              "        channel.send({})\n",
              "        if (message.buffers) {\n",
              "          for (const buffer of message.buffers) {\n",
              "            buffers.push(buffer);\n",
              "            downloaded += buffer.byteLength;\n",
              "            progress.value = downloaded;\n",
              "          }\n",
              "        }\n",
              "      }\n",
              "      const blob = new Blob(buffers, {type: 'application/binary'});\n",
              "      const a = document.createElement('a');\n",
              "      a.href = window.URL.createObjectURL(blob);\n",
              "      a.download = filename;\n",
              "      div.appendChild(a);\n",
              "      a.click();\n",
              "      div.remove();\n",
              "    }\n",
              "  "
            ]
          },
          "metadata": {}
        },
        {
          "output_type": "display_data",
          "data": {
            "text/plain": [
              "<IPython.core.display.Javascript object>"
            ],
            "application/javascript": [
              "download(\"download_a20f4408-f2c7-4089-9d4a-75bc8f09db52\", \"model.pkl\", 19290)"
            ]
          },
          "metadata": {}
        }
      ]
    },
    {
      "cell_type": "code",
      "source": [],
      "metadata": {
        "id": "bjt3olK3T7w6"
      },
      "execution_count": null,
      "outputs": []
    }
  ]
}